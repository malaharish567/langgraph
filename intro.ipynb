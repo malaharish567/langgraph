{
 "cells": [
  {
   "cell_type": "code",
   "execution_count": 3,
   "metadata": {},
   "outputs": [
    {
     "name": "stdout",
     "output_type": "stream",
     "text": [
      "Collecting pydantic\n",
      "  Downloading pydantic-2.11.4-py3-none-any.whl.metadata (66 kB)\n",
      "Requirement already satisfied: annotated-types>=0.6.0 in c:\\users\\malah\\appdata\\roaming\\python\\python311\\site-packages (from pydantic) (0.7.0)\n",
      "Collecting pydantic-core==2.33.2 (from pydantic)\n",
      "  Downloading pydantic_core-2.33.2-cp311-cp311-win_amd64.whl.metadata (6.9 kB)\n",
      "Requirement already satisfied: typing-extensions>=4.12.2 in c:\\users\\malah\\appdata\\roaming\\python\\python311\\site-packages (from pydantic) (4.12.2)\n",
      "Collecting typing-inspection>=0.4.0 (from pydantic)\n",
      "  Using cached typing_inspection-0.4.0-py3-none-any.whl.metadata (2.6 kB)\n",
      "Downloading pydantic-2.11.4-py3-none-any.whl (443 kB)\n",
      "Downloading pydantic_core-2.33.2-cp311-cp311-win_amd64.whl (2.0 MB)\n",
      "   ---------------------------------------- 0.0/2.0 MB ? eta -:--:--\n",
      "   ---------------------------------------- 0.0/2.0 MB ? eta -:--:--\n",
      "   ----- ---------------------------------- 0.3/2.0 MB ? eta -:--:--\n",
      "   ----- ---------------------------------- 0.3/2.0 MB ? eta -:--:--\n",
      "   ---------- ----------------------------- 0.5/2.0 MB 699.0 kB/s eta 0:00:03\n",
      "   ---------- ----------------------------- 0.5/2.0 MB 699.0 kB/s eta 0:00:03\n",
      "   ---------------- ----------------------- 0.8/2.0 MB 671.3 kB/s eta 0:00:02\n",
      "   ---------------- ----------------------- 0.8/2.0 MB 671.3 kB/s eta 0:00:02\n",
      "   ---------------- ----------------------- 0.8/2.0 MB 671.3 kB/s eta 0:00:02\n",
      "   --------------------- ------------------ 1.0/2.0 MB 578.7 kB/s eta 0:00:02\n",
      "   --------------------- ------------------ 1.0/2.0 MB 578.7 kB/s eta 0:00:02\n",
      "   --------------------- ------------------ 1.0/2.0 MB 578.7 kB/s eta 0:00:02\n",
      "   -------------------------- ------------- 1.3/2.0 MB 541.3 kB/s eta 0:00:02\n",
      "   -------------------------- ------------- 1.3/2.0 MB 541.3 kB/s eta 0:00:02\n",
      "   -------------------------------- ------- 1.6/2.0 MB 517.9 kB/s eta 0:00:01\n",
      "   -------------------------------- ------- 1.6/2.0 MB 517.9 kB/s eta 0:00:01\n",
      "   -------------------------------- ------- 1.6/2.0 MB 517.9 kB/s eta 0:00:01\n",
      "   ------------------------------------- -- 1.8/2.0 MB 505.9 kB/s eta 0:00:01\n",
      "   ---------------------------------------- 2.0/2.0 MB 494.2 kB/s eta 0:00:00\n",
      "Using cached typing_inspection-0.4.0-py3-none-any.whl (14 kB)\n",
      "Installing collected packages: typing-inspection, pydantic-core, pydantic\n",
      "\n",
      "   ---------------------------------------- 0/3 [typing-inspection]\n",
      "   ------------- -------------------------- 1/3 [pydantic-core]\n",
      "   ------------- -------------------------- 1/3 [pydantic-core]\n",
      "   ------------- -------------------------- 1/3 [pydantic-core]\n",
      "   -------------------------- ------------- 2/3 [pydantic]\n",
      "   -------------------------- ------------- 2/3 [pydantic]\n",
      "   -------------------------- ------------- 2/3 [pydantic]\n",
      "   -------------------------- ------------- 2/3 [pydantic]\n",
      "   -------------------------- ------------- 2/3 [pydantic]\n",
      "   -------------------------- ------------- 2/3 [pydantic]\n",
      "   -------------------------- ------------- 2/3 [pydantic]\n",
      "   -------------------------- ------------- 2/3 [pydantic]\n",
      "   -------------------------- ------------- 2/3 [pydantic]\n",
      "   -------------------------- ------------- 2/3 [pydantic]\n",
      "   -------------------------- ------------- 2/3 [pydantic]\n",
      "   -------------------------- ------------- 2/3 [pydantic]\n",
      "   -------------------------- ------------- 2/3 [pydantic]\n",
      "   -------------------------- ------------- 2/3 [pydantic]\n",
      "   -------------------------- ------------- 2/3 [pydantic]\n",
      "   -------------------------- ------------- 2/3 [pydantic]\n",
      "   ---------------------------------------- 3/3 [pydantic]\n",
      "\n",
      "Successfully installed pydantic-2.11.4 pydantic-core-2.33.2 typing-inspection-0.4.0\n"
     ]
    },
    {
     "name": "stderr",
     "output_type": "stream",
     "text": [
      "ERROR: pip's dependency resolver does not currently take into account all the packages that are installed. This behaviour is the source of the following dependency conflicts.\n",
      "langchainplus-sdk 0.0.20 requires tenacity<9.0.0,>=8.1.0, which is not installed.\n",
      "langchainplus-sdk 0.0.20 requires pydantic<2,>=1, but you have pydantic 2.11.4 which is incompatible.\n"
     ]
    }
   ],
   "source": [
    "!pip install pydantic"
   ]
  },
  {
   "cell_type": "code",
   "execution_count": 4,
   "metadata": {},
   "outputs": [],
   "source": [
    "from pydantic import BaseModel"
   ]
  },
  {
   "cell_type": "code",
   "execution_count": 6,
   "metadata": {},
   "outputs": [
    {
     "name": "stdout",
     "output_type": "stream",
     "text": [
      "name='mala' age=22 city='Erode'\n"
     ]
    }
   ],
   "source": [
    "class Person(BaseModel):\n",
    "    name:str\n",
    "    age:int\n",
    "    city:str\n",
    "\n",
    "person=Person(name=\"mala\",age=22,city=\"Erode\")\n",
    "print(person)"
   ]
  },
  {
   "cell_type": "code",
   "execution_count": 7,
   "metadata": {},
   "outputs": [
    {
     "data": {
      "text/plain": [
       "__main__.Person"
      ]
     },
     "execution_count": 7,
     "metadata": {},
     "output_type": "execute_result"
    }
   ],
   "source": [
    "type(person)"
   ]
  },
  {
   "cell_type": "code",
   "execution_count": 12,
   "metadata": {},
   "outputs": [
    {
     "name": "stdout",
     "output_type": "stream",
     "text": [
      "id=95524 name='mala' department='cse' salary=None is_active=True\n"
     ]
    }
   ],
   "source": [
    "from typing import Optional\n",
    "\n",
    "class Employee(BaseModel):\n",
    "    id:int\n",
    "    name:str\n",
    "    department:str\n",
    "    salary: Optional[float] = None #optional with default value\n",
    "    is_active: Optional[bool] = True #optional with default value\n",
    "employee = Employee(name=\"mala\",id=95524,department=\"cse\")  \n",
    "print(employee)  \n"
   ]
  },
  {
   "cell_type": "code",
   "execution_count": null,
   "metadata": {},
   "outputs": [],
   "source": []
  }
 ],
 "metadata": {
  "kernelspec": {
   "display_name": "langgraph",
   "language": "python",
   "name": "python3"
  },
  "language_info": {
   "codemirror_mode": {
    "name": "ipython",
    "version": 3
   },
   "file_extension": ".py",
   "mimetype": "text/x-python",
   "name": "python",
   "nbconvert_exporter": "python",
   "pygments_lexer": "ipython3",
   "version": "3.11.0"
  }
 },
 "nbformat": 4,
 "nbformat_minor": 2
}
