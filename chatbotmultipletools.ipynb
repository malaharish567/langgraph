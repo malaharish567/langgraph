{
 "cells": [
  {
   "cell_type": "code",
   "execution_count": 3,
   "metadata": {},
   "outputs": [],
   "source": [
    "from langchain_community.tools import ArxivQueryRun,WikipediaQueryRun\n",
    "from langchain_community.utilities import WikipediaAPIWrapper,ArxivAPIWrapper"
   ]
  },
  {
   "cell_type": "code",
   "execution_count": 2,
   "metadata": {},
   "outputs": [
    {
     "name": "stdout",
     "output_type": "stream",
     "text": [
      "Collecting langchain_community\n",
      "  Downloading langchain_community-0.3.24-py3-none-any.whl.metadata (2.5 kB)\n",
      "Requirement already satisfied: langchain-core<1.0.0,>=0.3.59 in c:\\users\\malah\\anaconda3\\envs\\langgraph\\lib\\site-packages (from langchain_community) (0.3.60)\n",
      "Collecting langchain<1.0.0,>=0.3.25 (from langchain_community)\n",
      "  Downloading langchain-0.3.25-py3-none-any.whl.metadata (7.8 kB)\n",
      "Requirement already satisfied: SQLAlchemy<3,>=1.4 in c:\\users\\malah\\appdata\\roaming\\python\\python311\\site-packages (from langchain_community) (2.0.36)\n",
      "Requirement already satisfied: requests<3,>=2 in c:\\users\\malah\\appdata\\roaming\\python\\python311\\site-packages (from langchain_community) (2.32.3)\n",
      "Requirement already satisfied: PyYAML>=5.3 in c:\\users\\malah\\appdata\\roaming\\python\\python311\\site-packages (from langchain_community) (6.0.2)\n",
      "Collecting aiohttp<4.0.0,>=3.8.3 (from langchain_community)\n",
      "  Using cached aiohttp-3.11.18-cp311-cp311-win_amd64.whl.metadata (8.0 kB)\n",
      "Requirement already satisfied: tenacity!=8.4.0,<10,>=8.1.0 in c:\\users\\malah\\anaconda3\\envs\\langgraph\\lib\\site-packages (from langchain_community) (9.1.2)\n",
      "Requirement already satisfied: dataclasses-json<0.7,>=0.5.7 in c:\\users\\malah\\appdata\\roaming\\python\\python311\\site-packages (from langchain_community) (0.6.7)\n",
      "Collecting pydantic-settings<3.0.0,>=2.4.0 (from langchain_community)\n",
      "  Downloading pydantic_settings-2.9.1-py3-none-any.whl.metadata (3.8 kB)\n",
      "Requirement already satisfied: langsmith<0.4,>=0.1.125 in c:\\users\\malah\\anaconda3\\envs\\langgraph\\lib\\site-packages (from langchain_community) (0.3.42)\n",
      "Requirement already satisfied: httpx-sse<1.0.0,>=0.4.0 in c:\\users\\malah\\appdata\\roaming\\python\\python311\\site-packages (from langchain_community) (0.4.0)\n",
      "Requirement already satisfied: numpy>=1.26.2 in c:\\users\\malah\\appdata\\roaming\\python\\python311\\site-packages (from langchain_community) (1.26.4)\n",
      "Requirement already satisfied: aiohappyeyeballs>=2.3.0 in c:\\users\\malah\\appdata\\roaming\\python\\python311\\site-packages (from aiohttp<4.0.0,>=3.8.3->langchain_community) (2.4.3)\n",
      "Requirement already satisfied: aiosignal>=1.1.2 in c:\\users\\malah\\appdata\\roaming\\python\\python311\\site-packages (from aiohttp<4.0.0,>=3.8.3->langchain_community) (1.3.1)\n",
      "Requirement already satisfied: attrs>=17.3.0 in c:\\users\\malah\\appdata\\roaming\\python\\python311\\site-packages (from aiohttp<4.0.0,>=3.8.3->langchain_community) (24.2.0)\n",
      "Requirement already satisfied: frozenlist>=1.1.1 in c:\\users\\malah\\appdata\\roaming\\python\\python311\\site-packages (from aiohttp<4.0.0,>=3.8.3->langchain_community) (1.4.1)\n",
      "Requirement already satisfied: multidict<7.0,>=4.5 in c:\\users\\malah\\appdata\\roaming\\python\\python311\\site-packages (from aiohttp<4.0.0,>=3.8.3->langchain_community) (6.1.0)\n",
      "Collecting propcache>=0.2.0 (from aiohttp<4.0.0,>=3.8.3->langchain_community)\n",
      "  Using cached propcache-0.3.1-cp311-cp311-win_amd64.whl.metadata (11 kB)\n",
      "Collecting yarl<2.0,>=1.17.0 (from aiohttp<4.0.0,>=3.8.3->langchain_community)\n",
      "  Using cached yarl-1.20.0-cp311-cp311-win_amd64.whl.metadata (74 kB)\n",
      "Requirement already satisfied: marshmallow<4.0.0,>=3.18.0 in c:\\users\\malah\\appdata\\roaming\\python\\python311\\site-packages (from dataclasses-json<0.7,>=0.5.7->langchain_community) (3.22.0)\n",
      "Requirement already satisfied: typing-inspect<1,>=0.4.0 in c:\\users\\malah\\appdata\\roaming\\python\\python311\\site-packages (from dataclasses-json<0.7,>=0.5.7->langchain_community) (0.9.0)\n",
      "Collecting langchain-text-splitters<1.0.0,>=0.3.8 (from langchain<1.0.0,>=0.3.25->langchain_community)\n",
      "  Using cached langchain_text_splitters-0.3.8-py3-none-any.whl.metadata (1.9 kB)\n",
      "Requirement already satisfied: pydantic<3.0.0,>=2.7.4 in c:\\users\\malah\\anaconda3\\envs\\langgraph\\lib\\site-packages (from langchain<1.0.0,>=0.3.25->langchain_community) (2.11.4)\n",
      "Requirement already satisfied: jsonpatch<2.0,>=1.33 in c:\\users\\malah\\appdata\\roaming\\python\\python311\\site-packages (from langchain-core<1.0.0,>=0.3.59->langchain_community) (1.33)\n",
      "Requirement already satisfied: packaging<25,>=23.2 in c:\\users\\malah\\appdata\\roaming\\python\\python311\\site-packages (from langchain-core<1.0.0,>=0.3.59->langchain_community) (23.2)\n",
      "Requirement already satisfied: typing-extensions>=4.7 in c:\\users\\malah\\appdata\\roaming\\python\\python311\\site-packages (from langchain-core<1.0.0,>=0.3.59->langchain_community) (4.12.2)\n",
      "Requirement already satisfied: jsonpointer>=1.9 in c:\\users\\malah\\appdata\\roaming\\python\\python311\\site-packages (from jsonpatch<2.0,>=1.33->langchain-core<1.0.0,>=0.3.59->langchain_community) (3.0.0)\n",
      "Requirement already satisfied: httpx<1,>=0.23.0 in c:\\users\\malah\\anaconda3\\envs\\langgraph\\lib\\site-packages (from langsmith<0.4,>=0.1.125->langchain_community) (0.28.1)\n",
      "Requirement already satisfied: orjson<4.0.0,>=3.9.14 in c:\\users\\malah\\anaconda3\\envs\\langgraph\\lib\\site-packages (from langsmith<0.4,>=0.1.125->langchain_community) (3.10.18)\n",
      "Requirement already satisfied: requests-toolbelt<2.0.0,>=1.0.0 in c:\\users\\malah\\appdata\\roaming\\python\\python311\\site-packages (from langsmith<0.4,>=0.1.125->langchain_community) (1.0.0)\n",
      "Requirement already satisfied: zstandard<0.24.0,>=0.23.0 in c:\\users\\malah\\anaconda3\\envs\\langgraph\\lib\\site-packages (from langsmith<0.4,>=0.1.125->langchain_community) (0.23.0)\n",
      "Requirement already satisfied: anyio in c:\\users\\malah\\anaconda3\\envs\\langgraph\\lib\\site-packages (from httpx<1,>=0.23.0->langsmith<0.4,>=0.1.125->langchain_community) (4.9.0)\n",
      "Requirement already satisfied: certifi in c:\\users\\malah\\appdata\\roaming\\python\\python311\\site-packages (from httpx<1,>=0.23.0->langsmith<0.4,>=0.1.125->langchain_community) (2024.8.30)\n",
      "Requirement already satisfied: httpcore==1.* in c:\\users\\malah\\anaconda3\\envs\\langgraph\\lib\\site-packages (from httpx<1,>=0.23.0->langsmith<0.4,>=0.1.125->langchain_community) (1.0.9)\n",
      "Requirement already satisfied: idna in c:\\users\\malah\\appdata\\roaming\\python\\python311\\site-packages (from httpx<1,>=0.23.0->langsmith<0.4,>=0.1.125->langchain_community) (3.10)\n",
      "Requirement already satisfied: h11>=0.16 in c:\\users\\malah\\anaconda3\\envs\\langgraph\\lib\\site-packages (from httpcore==1.*->httpx<1,>=0.23.0->langsmith<0.4,>=0.1.125->langchain_community) (0.16.0)\n",
      "Requirement already satisfied: annotated-types>=0.6.0 in c:\\users\\malah\\appdata\\roaming\\python\\python311\\site-packages (from pydantic<3.0.0,>=2.7.4->langchain<1.0.0,>=0.3.25->langchain_community) (0.7.0)\n",
      "Requirement already satisfied: pydantic-core==2.33.2 in c:\\users\\malah\\anaconda3\\envs\\langgraph\\lib\\site-packages (from pydantic<3.0.0,>=2.7.4->langchain<1.0.0,>=0.3.25->langchain_community) (2.33.2)\n",
      "Requirement already satisfied: typing-inspection>=0.4.0 in c:\\users\\malah\\anaconda3\\envs\\langgraph\\lib\\site-packages (from pydantic<3.0.0,>=2.7.4->langchain<1.0.0,>=0.3.25->langchain_community) (0.4.0)\n",
      "Requirement already satisfied: python-dotenv>=0.21.0 in c:\\users\\malah\\appdata\\roaming\\python\\python311\\site-packages (from pydantic-settings<3.0.0,>=2.4.0->langchain_community) (1.0.1)\n",
      "Requirement already satisfied: charset-normalizer<4,>=2 in c:\\users\\malah\\appdata\\roaming\\python\\python311\\site-packages (from requests<3,>=2->langchain_community) (3.3.2)\n",
      "Requirement already satisfied: urllib3<3,>=1.21.1 in c:\\users\\malah\\appdata\\roaming\\python\\python311\\site-packages (from requests<3,>=2->langchain_community) (2.2.3)\n",
      "Requirement already satisfied: greenlet!=0.4.17 in c:\\users\\malah\\appdata\\roaming\\python\\python311\\site-packages (from SQLAlchemy<3,>=1.4->langchain_community) (3.1.1)\n",
      "Requirement already satisfied: mypy-extensions>=0.3.0 in c:\\users\\malah\\appdata\\roaming\\python\\python311\\site-packages (from typing-inspect<1,>=0.4.0->dataclasses-json<0.7,>=0.5.7->langchain_community) (1.0.0)\n",
      "Requirement already satisfied: sniffio>=1.1 in c:\\users\\malah\\appdata\\roaming\\python\\python311\\site-packages (from anyio->httpx<1,>=0.23.0->langsmith<0.4,>=0.1.125->langchain_community) (1.3.1)\n",
      "Downloading langchain_community-0.3.24-py3-none-any.whl (2.5 MB)\n",
      "   ---------------------------------------- 0.0/2.5 MB ? eta -:--:--\n",
      "   ---- ----------------------------------- 0.3/2.5 MB ? eta -:--:--\n",
      "   -------- ------------------------------- 0.5/2.5 MB 1.9 MB/s eta 0:00:02\n",
      "   ------------ --------------------------- 0.8/2.5 MB 1.6 MB/s eta 0:00:02\n",
      "   ---------------- ----------------------- 1.0/2.5 MB 1.6 MB/s eta 0:00:01\n",
      "   ------------------------ --------------- 1.6/2.5 MB 1.6 MB/s eta 0:00:01\n",
      "   ----------------------------- ---------- 1.8/2.5 MB 1.5 MB/s eta 0:00:01\n",
      "   --------------------------------- ------ 2.1/2.5 MB 1.5 MB/s eta 0:00:01\n",
      "   ------------------------------------- -- 2.4/2.5 MB 1.5 MB/s eta 0:00:01\n",
      "   ---------------------------------------- 2.5/2.5 MB 1.4 MB/s eta 0:00:00\n",
      "Using cached aiohttp-3.11.18-cp311-cp311-win_amd64.whl (443 kB)\n",
      "Downloading langchain-0.3.25-py3-none-any.whl (1.0 MB)\n",
      "   ---------------------------------------- 0.0/1.0 MB ? eta -:--:--\n",
      "   ---------- ----------------------------- 0.3/1.0 MB ? eta -:--:--\n",
      "   ---------- ----------------------------- 0.3/1.0 MB ? eta -:--:--\n",
      "   -------------------- ------------------- 0.5/1.0 MB 1.0 MB/s eta 0:00:01\n",
      "   ------------------------------- -------- 0.8/1.0 MB 985.5 kB/s eta 0:00:01\n",
      "   ---------------------------------------- 1.0/1.0 MB 1.0 MB/s eta 0:00:00\n",
      "Using cached langchain_text_splitters-0.3.8-py3-none-any.whl (32 kB)\n",
      "Downloading pydantic_settings-2.9.1-py3-none-any.whl (44 kB)\n",
      "Using cached yarl-1.20.0-cp311-cp311-win_amd64.whl (93 kB)\n",
      "Using cached propcache-0.3.1-cp311-cp311-win_amd64.whl (45 kB)\n",
      "Installing collected packages: propcache, yarl, pydantic-settings, aiohttp, langchain-text-splitters, langchain, langchain_community\n",
      "\n",
      "   ----------- ---------------------------- 2/7 [pydantic-settings]\n",
      "   ----------------- ---------------------- 3/7 [aiohttp]\n",
      "   ----------------- ---------------------- 3/7 [aiohttp]\n",
      "   ----------------- ---------------------- 3/7 [aiohttp]\n",
      "   ---------------------- ----------------- 4/7 [langchain-text-splitters]\n",
      "   ---------------------------- ----------- 5/7 [langchain]\n",
      "   ---------------------------- ----------- 5/7 [langchain]\n",
      "   ---------------------------- ----------- 5/7 [langchain]\n",
      "   ---------------------------- ----------- 5/7 [langchain]\n",
      "   ---------------------------- ----------- 5/7 [langchain]\n",
      "   ---------------------------- ----------- 5/7 [langchain]\n",
      "   ---------------------------- ----------- 5/7 [langchain]\n",
      "   ---------------------------- ----------- 5/7 [langchain]\n",
      "   ---------------------------- ----------- 5/7 [langchain]\n",
      "   ---------------------------- ----------- 5/7 [langchain]\n",
      "   ---------------------------- ----------- 5/7 [langchain]\n",
      "   ---------------------------- ----------- 5/7 [langchain]\n",
      "   ---------------------------- ----------- 5/7 [langchain]\n",
      "   ---------------------------- ----------- 5/7 [langchain]\n",
      "   ---------------------------- ----------- 5/7 [langchain]\n",
      "   ---------------------------- ----------- 5/7 [langchain]\n",
      "   ---------------------------- ----------- 5/7 [langchain]\n",
      "   ---------------------------- ----------- 5/7 [langchain]\n",
      "   ---------------------------- ----------- 5/7 [langchain]\n",
      "   ---------------------------- ----------- 5/7 [langchain]\n",
      "   ---------------------------- ----------- 5/7 [langchain]\n",
      "   ---------------------------- ----------- 5/7 [langchain]\n",
      "   ---------------------------- ----------- 5/7 [langchain]\n",
      "   ---------------------------- ----------- 5/7 [langchain]\n",
      "   ---------------------------- ----------- 5/7 [langchain]\n",
      "   ---------------------------- ----------- 5/7 [langchain]\n",
      "   ---------------------------- ----------- 5/7 [langchain]\n",
      "   ---------------------------- ----------- 5/7 [langchain]\n",
      "   ---------------------------- ----------- 5/7 [langchain]\n",
      "   ---------------------------- ----------- 5/7 [langchain]\n",
      "   ---------------------------- ----------- 5/7 [langchain]\n",
      "   ---------------------------- ----------- 5/7 [langchain]\n",
      "   ---------------------------- ----------- 5/7 [langchain]\n",
      "   ---------------------------- ----------- 5/7 [langchain]\n",
      "   ---------------------------- ----------- 5/7 [langchain]\n",
      "   ---------------------------- ----------- 5/7 [langchain]\n",
      "   ---------------------------- ----------- 5/7 [langchain]\n",
      "   ---------------------------- ----------- 5/7 [langchain]\n",
      "   ---------------------------------- ----- 6/7 [langchain_community]\n",
      "   ---------------------------------- ----- 6/7 [langchain_community]\n",
      "   ---------------------------------- ----- 6/7 [langchain_community]\n",
      "   ---------------------------------- ----- 6/7 [langchain_community]\n",
      "   ---------------------------------- ----- 6/7 [langchain_community]\n",
      "   ---------------------------------- ----- 6/7 [langchain_community]\n",
      "   ---------------------------------- ----- 6/7 [langchain_community]\n",
      "   ---------------------------------- ----- 6/7 [langchain_community]\n",
      "   ---------------------------------- ----- 6/7 [langchain_community]\n",
      "   ---------------------------------- ----- 6/7 [langchain_community]\n",
      "   ---------------------------------- ----- 6/7 [langchain_community]\n",
      "   ---------------------------------- ----- 6/7 [langchain_community]\n",
      "   ---------------------------------- ----- 6/7 [langchain_community]\n",
      "   ---------------------------------- ----- 6/7 [langchain_community]\n",
      "   ---------------------------------- ----- 6/7 [langchain_community]\n",
      "   ---------------------------------- ----- 6/7 [langchain_community]\n",
      "   ---------------------------------- ----- 6/7 [langchain_community]\n",
      "   ---------------------------------- ----- 6/7 [langchain_community]\n",
      "   ---------------------------------- ----- 6/7 [langchain_community]\n",
      "   ---------------------------------- ----- 6/7 [langchain_community]\n",
      "   ---------------------------------- ----- 6/7 [langchain_community]\n",
      "   ---------------------------------- ----- 6/7 [langchain_community]\n",
      "   ---------------------------------- ----- 6/7 [langchain_community]\n",
      "   ---------------------------------- ----- 6/7 [langchain_community]\n",
      "   ---------------------------------- ----- 6/7 [langchain_community]\n",
      "   ---------------------------------- ----- 6/7 [langchain_community]\n",
      "   ---------------------------------- ----- 6/7 [langchain_community]\n",
      "   ---------------------------------- ----- 6/7 [langchain_community]\n",
      "   ---------------------------------- ----- 6/7 [langchain_community]\n",
      "   ---------------------------------- ----- 6/7 [langchain_community]\n",
      "   ---------------------------------- ----- 6/7 [langchain_community]\n",
      "   ---------------------------------- ----- 6/7 [langchain_community]\n",
      "   ---------------------------------- ----- 6/7 [langchain_community]\n",
      "   ---------------------------------- ----- 6/7 [langchain_community]\n",
      "   ---------------------------------- ----- 6/7 [langchain_community]\n",
      "   ---------------------------------- ----- 6/7 [langchain_community]\n",
      "   ---------------------------------- ----- 6/7 [langchain_community]\n",
      "   ---------------------------------- ----- 6/7 [langchain_community]\n",
      "   ---------------------------------- ----- 6/7 [langchain_community]\n",
      "   ---------------------------------- ----- 6/7 [langchain_community]\n",
      "   ---------------------------------- ----- 6/7 [langchain_community]\n",
      "   ---------------------------------- ----- 6/7 [langchain_community]\n",
      "   ---------------------------------- ----- 6/7 [langchain_community]\n",
      "   ---------------------------------- ----- 6/7 [langchain_community]\n",
      "   ---------------------------------- ----- 6/7 [langchain_community]\n",
      "   ---------------------------------- ----- 6/7 [langchain_community]\n",
      "   ---------------------------------- ----- 6/7 [langchain_community]\n",
      "   ---------------------------------- ----- 6/7 [langchain_community]\n",
      "   ---------------------------------- ----- 6/7 [langchain_community]\n",
      "   ---------------------------------- ----- 6/7 [langchain_community]\n",
      "   ---------------------------------- ----- 6/7 [langchain_community]\n",
      "   ---------------------------------- ----- 6/7 [langchain_community]\n",
      "   ---------------------------------- ----- 6/7 [langchain_community]\n",
      "   ---------------------------------- ----- 6/7 [langchain_community]\n",
      "   ---------------------------------- ----- 6/7 [langchain_community]\n",
      "   ---------------------------------- ----- 6/7 [langchain_community]\n",
      "   ---------------------------------- ----- 6/7 [langchain_community]\n",
      "   ---------------------------------- ----- 6/7 [langchain_community]\n",
      "   ---------------------------------- ----- 6/7 [langchain_community]\n",
      "   ---------------------------------- ----- 6/7 [langchain_community]\n",
      "   ---------------------------------- ----- 6/7 [langchain_community]\n",
      "   ---------------------------------- ----- 6/7 [langchain_community]\n",
      "   ---------------------------------- ----- 6/7 [langchain_community]\n",
      "   ---------------------------------- ----- 6/7 [langchain_community]\n",
      "   ---------------------------------- ----- 6/7 [langchain_community]\n",
      "   ---------------------------------- ----- 6/7 [langchain_community]\n",
      "   ---------------------------------- ----- 6/7 [langchain_community]\n",
      "   ---------------------------------- ----- 6/7 [langchain_community]\n",
      "   ---------------------------------- ----- 6/7 [langchain_community]\n",
      "   ---------------------------------- ----- 6/7 [langchain_community]\n",
      "   ---------------------------------- ----- 6/7 [langchain_community]\n",
      "   ---------------------------------- ----- 6/7 [langchain_community]\n",
      "   ---------------------------------- ----- 6/7 [langchain_community]\n",
      "   ---------------------------------- ----- 6/7 [langchain_community]\n",
      "   ---------------------------------- ----- 6/7 [langchain_community]\n",
      "   ---------------------------------- ----- 6/7 [langchain_community]\n",
      "   ---------------------------------- ----- 6/7 [langchain_community]\n",
      "   ---------------------------------- ----- 6/7 [langchain_community]\n",
      "   ---------------------------------- ----- 6/7 [langchain_community]\n",
      "   ---------------------------------- ----- 6/7 [langchain_community]\n",
      "   ---------------------------------- ----- 6/7 [langchain_community]\n",
      "   ---------------------------------- ----- 6/7 [langchain_community]\n",
      "   ---------------------------------- ----- 6/7 [langchain_community]\n",
      "   ---------------------------------- ----- 6/7 [langchain_community]\n",
      "   ---------------------------------- ----- 6/7 [langchain_community]\n",
      "   ---------------------------------------- 7/7 [langchain_community]\n",
      "\n",
      "Successfully installed aiohttp-3.11.18 langchain-0.3.25 langchain-text-splitters-0.3.8 langchain_community-0.3.24 propcache-0.3.1 pydantic-settings-2.9.1 yarl-1.20.0\n"
     ]
    },
    {
     "name": "stderr",
     "output_type": "stream",
     "text": [
      "ERROR: pip's dependency resolver does not currently take into account all the packages that are installed. This behaviour is the source of the following dependency conflicts.\n",
      "gql 3.5.0 requires backoff<3.0,>=1.11.1, which is not installed.\n"
     ]
    }
   ],
   "source": [
    "!pip install langchain_community"
   ]
  },
  {
   "cell_type": "code",
   "execution_count": 5,
   "metadata": {},
   "outputs": [
    {
     "name": "stdout",
     "output_type": "stream",
     "text": [
      "Collecting arxiv\n",
      "  Using cached arxiv-2.2.0-py3-none-any.whl.metadata (6.3 kB)\n",
      "Collecting feedparser~=6.0.10 (from arxiv)\n",
      "  Using cached feedparser-6.0.11-py3-none-any.whl.metadata (2.4 kB)\n",
      "Requirement already satisfied: requests~=2.32.0 in c:\\users\\malah\\appdata\\roaming\\python\\python311\\site-packages (from arxiv) (2.32.3)\n",
      "Collecting sgmllib3k (from feedparser~=6.0.10->arxiv)\n",
      "  Using cached sgmllib3k-1.0.0.tar.gz (5.8 kB)\n",
      "  Preparing metadata (setup.py): started\n",
      "  Preparing metadata (setup.py): finished with status 'done'\n",
      "Requirement already satisfied: charset-normalizer<4,>=2 in c:\\users\\malah\\appdata\\roaming\\python\\python311\\site-packages (from requests~=2.32.0->arxiv) (3.3.2)\n",
      "Requirement already satisfied: idna<4,>=2.5 in c:\\users\\malah\\appdata\\roaming\\python\\python311\\site-packages (from requests~=2.32.0->arxiv) (3.10)\n",
      "Requirement already satisfied: urllib3<3,>=1.21.1 in c:\\users\\malah\\appdata\\roaming\\python\\python311\\site-packages (from requests~=2.32.0->arxiv) (2.2.3)\n",
      "Requirement already satisfied: certifi>=2017.4.17 in c:\\users\\malah\\appdata\\roaming\\python\\python311\\site-packages (from requests~=2.32.0->arxiv) (2024.8.30)\n",
      "Using cached arxiv-2.2.0-py3-none-any.whl (11 kB)\n",
      "Using cached feedparser-6.0.11-py3-none-any.whl (81 kB)\n",
      "Building wheels for collected packages: sgmllib3k\n",
      "  Building wheel for sgmllib3k (setup.py): started\n",
      "  Building wheel for sgmllib3k (setup.py): finished with status 'done'\n",
      "  Created wheel for sgmllib3k: filename=sgmllib3k-1.0.0-py3-none-any.whl size=6105 sha256=cc4940390ce5666678be5124c7bdbe1a810af441a8dadced6dba3506c3896c1b\n",
      "  Stored in directory: c:\\users\\malah\\appdata\\local\\pip\\cache\\wheels\\3b\\25\\2a\\105d6a15df6914f4d15047691c6c28f9052cc1173e40285d03\n",
      "Successfully built sgmllib3k\n",
      "Installing collected packages: sgmllib3k, feedparser, arxiv\n",
      "\n",
      "   ------------- -------------------------- 1/3 [feedparser]\n",
      "   ---------------------------------------- 3/3 [arxiv]\n",
      "\n",
      "Successfully installed arxiv-2.2.0 feedparser-6.0.11 sgmllib3k-1.0.0\n"
     ]
    },
    {
     "name": "stderr",
     "output_type": "stream",
     "text": [
      "  DEPRECATION: Building 'sgmllib3k' using the legacy setup.py bdist_wheel mechanism, which will be removed in a future version. pip 25.3 will enforce this behaviour change. A possible replacement is to use the standardized build interface by setting the `--use-pep517` option, (possibly combined with `--no-build-isolation`), or adding a `pyproject.toml` file to the source tree of 'sgmllib3k'. Discussion can be found at https://github.com/pypa/pip/issues/6334\n"
     ]
    }
   ],
   "source": [
    "!pip install arxiv"
   ]
  },
  {
   "cell_type": "code",
   "execution_count": 6,
   "metadata": {},
   "outputs": [
    {
     "name": "stdout",
     "output_type": "stream",
     "text": [
      "arxiv\n"
     ]
    }
   ],
   "source": [
    "api_wrapper_arxiv=ArxivAPIWrapper(top_k_results=2,doc_content_chars_max=500)\n",
    "arxiv=ArxivQueryRun(api_wrapper=api_wrapper_arxiv,description=\"Query arxiv papers\")\n",
    "print(arxiv.name)"
   ]
  },
  {
   "cell_type": "code",
   "execution_count": 7,
   "metadata": {},
   "outputs": [
    {
     "data": {
      "text/plain": [
       "'Published: 2023-05-23\\nTitle: Fast and energy-efficient non-volatile III-V-on-silicon photonic phase shifter based on memristors\\nAuthors: Zhuoran Fang, Bassem Tossoun, Antoine Descos, Di Liang, Xue Huang, Geza Kurczveil, Arka Majumdar, Raymond G. Beausoleil\\nSummary: Silicon photonics has evolved from lab research to commercial products in the\\npast decade as it plays an increasingly crucial role in data communication for\\nnext-generation data centers and high performance computing1. Recently,\\nprogr'"
      ]
     },
     "execution_count": 7,
     "metadata": {},
     "output_type": "execute_result"
    }
   ],
   "source": [
    "arxiv.invoke(\"What is the latest research on quantum computing?\")"
   ]
  },
  {
   "cell_type": "code",
   "execution_count": 9,
   "metadata": {},
   "outputs": [
    {
     "name": "stdout",
     "output_type": "stream",
     "text": [
      "Collecting wikipedia\n",
      "  Using cached wikipedia-1.4.0-py3-none-any.whl\n",
      "Requirement already satisfied: beautifulsoup4 in c:\\users\\malah\\appdata\\roaming\\python\\python311\\site-packages (from wikipedia) (4.12.3)\n",
      "Requirement already satisfied: requests<3.0.0,>=2.0.0 in c:\\users\\malah\\appdata\\roaming\\python\\python311\\site-packages (from wikipedia) (2.32.3)\n",
      "Requirement already satisfied: charset-normalizer<4,>=2 in c:\\users\\malah\\appdata\\roaming\\python\\python311\\site-packages (from requests<3.0.0,>=2.0.0->wikipedia) (3.3.2)\n",
      "Requirement already satisfied: idna<4,>=2.5 in c:\\users\\malah\\appdata\\roaming\\python\\python311\\site-packages (from requests<3.0.0,>=2.0.0->wikipedia) (3.10)\n",
      "Requirement already satisfied: urllib3<3,>=1.21.1 in c:\\users\\malah\\appdata\\roaming\\python\\python311\\site-packages (from requests<3.0.0,>=2.0.0->wikipedia) (2.2.3)\n",
      "Requirement already satisfied: certifi>=2017.4.17 in c:\\users\\malah\\appdata\\roaming\\python\\python311\\site-packages (from requests<3.0.0,>=2.0.0->wikipedia) (2024.8.30)\n",
      "Requirement already satisfied: soupsieve>1.2 in c:\\users\\malah\\appdata\\roaming\\python\\python311\\site-packages (from beautifulsoup4->wikipedia) (2.6)\n",
      "Installing collected packages: wikipedia\n",
      "Successfully installed wikipedia-1.4.0\n"
     ]
    }
   ],
   "source": [
    "!pip install wikipedia"
   ]
  },
  {
   "cell_type": "code",
   "execution_count": 10,
   "metadata": {},
   "outputs": [
    {
     "data": {
      "text/plain": [
       "'wikipedia'"
      ]
     },
     "execution_count": 10,
     "metadata": {},
     "output_type": "execute_result"
    }
   ],
   "source": [
    "api_wrapper_wiki=WikipediaAPIWrapper(top_k_results=1,doc_content_chars_max=500)\n",
    "wiki=WikipediaQueryRun(api_wrapper=api_wrapper_wiki)\n",
    "wiki.name"
   ]
  },
  {
   "cell_type": "code",
   "execution_count": 12,
   "metadata": {},
   "outputs": [],
   "source": [
    "from dotenv import load_dotenv\n",
    "load_dotenv()\n",
    "\n",
    "import os\n",
    "\n",
    "os.environ[\"TAVILY_API_KEY\"]=os.getenv(\"TAVILY_API_KEY\")\n",
    "os.environ[\"GROQ_API_KEY\"]=os.getenv(\"GROQ_API_KEY\")"
   ]
  },
  {
   "cell_type": "code",
   "execution_count": 13,
   "metadata": {},
   "outputs": [],
   "source": [
    "### Tavily Search Tool\n",
    "from langchain_community.tools.tavily_search import TavilySearchResults\n",
    "\n",
    "tavily = TavilySearchResults()"
   ]
  },
  {
   "cell_type": "code",
   "execution_count": 14,
   "metadata": {},
   "outputs": [
    {
     "data": {
      "text/plain": [
       "[{'title': 'AI News | Latest AI News, Analysis & Events',\n",
       "  'url': 'https://www.artificialintelligence-news.com/',\n",
       "  'content': 'AI News reports on the latest artificial intelligence news and insights. Explore industry trends from the frontline of AI.',\n",
       "  'score': 0.650934},\n",
       " {'title': 'Artificial Intelligence - Latest AI News and Analysis - WSJ.com',\n",
       "  'url': 'https://www.wsj.com/tech/ai',\n",
       "  'content': 'The latest artificial intelligence news coverage focusing on the technology, tools and the companies building AI technology.',\n",
       "  'score': 0.6383174},\n",
       " {'title': 'Latest AI news and blog posts - Google AI',\n",
       "  'url': 'https://ai.google/latest-news/',\n",
       "  'content': 'Read about the latest AI news and explore blogs for researchers, IT leaders, developers, and more.',\n",
       "  'score': 0.6364215},\n",
       " {'title': 'Artificial intelligence - NBC News',\n",
       "  'url': 'https://www.nbcnews.com/artificial-intelligence',\n",
       "  'content': \"The latest news and top stories on artificial intelligence, including AI chatbots like Microsoft's ChatGPT, Apple's AI Chatbot and Google's Bard.\",\n",
       "  'score': 0.6211049},\n",
       " {'title': 'AI News & Artificial Intelligence | TechCrunch',\n",
       "  'url': 'https://techcrunch.com/category/artificial-intelligence/',\n",
       "  'content': 'OpenAI launches Codex, an AI coding agent, in ChatGPT\\n\\nxAI blames Grok’s obsession with white genocide on an ‘unauthorized modification’\\n\\nSam Altman’s goal for ChatGPT to remember ‘your whole life’ is both exciting and disturbing\\n\\nVibe-coding startup Windsurf launches in-house AI models\\n\\nFake fired Twitter worker ‘Rahul Ligma’ is a real engineer with an AI data startup used by Harvard\\n\\nProgrammers bore the brunt of Microsoft’s layoffs in its home state as AI writes up to 30% of its code [...] AI\\n\\nNews coverage on artificial intelligence and machine learning tech, the companies building them, and the ethical issues AI raises today. This encompasses generative AI, including large language models, text-to-image and text-to-video models; speech recognition and generation; and predictive analytics.\\n\\n\\n\\n\\n\\nKlarna’s revenue per employee soars to nearly $1M thanks to AI efficiency push\\n\\nGoogle launches stand-alone NotebookLM apps for Android and iOS [...] Topics\\n\\nLatest\\n\\nAI\\n\\nAmazon\\n\\nApps\\n\\nBiotech & Health\\n\\nClimate\\n\\nCloud Computing\\n\\nCommerce\\n\\nCrypto\\n\\nEnterprise\\n\\nEVs\\n\\nFintech\\n\\nFundraising\\n\\nGadgets\\n\\nGaming\\n\\nGoogle\\n\\nGovernment & Policy\\n\\nHardware\\n\\nInstagram\\n\\nLayoffs\\n\\nMedia & Entertainment\\n\\nMeta\\n\\nMicrosoft\\n\\nPrivacy\\n\\nRobotics\\n\\nSecurity\\n\\nSocial\\n\\nSpace\\n\\nStartups\\n\\nTikTok\\n\\nTransportation\\n\\nVenture\\n\\nMore from TechCrunch\\n\\nEvents\\n\\nStartup Battlefield\\n\\nStrictlyVC\\n\\nNewsletters\\n\\nPodcasts\\n\\nVideos\\n\\nPartner Content\\n\\nTechCrunch Brand Studio\\n\\nCrunchboard\\n\\nContact Us',\n",
       "  'score': 0.6058229}]"
      ]
     },
     "execution_count": 14,
     "metadata": {},
     "output_type": "execute_result"
    }
   ],
   "source": [
    "tavily.invoke(\"Provide me the recent AI news?\")"
   ]
  },
  {
   "cell_type": "code",
   "execution_count": 15,
   "metadata": {},
   "outputs": [],
   "source": [
    "## combine all these tools in the list\n",
    "tools=[arxiv, wiki, tavily]"
   ]
  },
  {
   "cell_type": "code",
   "execution_count": 17,
   "metadata": {},
   "outputs": [
    {
     "name": "stdout",
     "output_type": "stream",
     "text": [
      "Collecting langchain_groq\n",
      "  Downloading langchain_groq-0.3.2-py3-none-any.whl.metadata (2.6 kB)\n",
      "Requirement already satisfied: langchain-core<1.0.0,>=0.3.49 in c:\\users\\malah\\anaconda3\\envs\\langgraph\\lib\\site-packages (from langchain_groq) (0.3.60)\n",
      "Collecting groq<1,>=0.4.1 (from langchain_groq)\n",
      "  Downloading groq-0.25.0-py3-none-any.whl.metadata (15 kB)\n",
      "Requirement already satisfied: anyio<5,>=3.5.0 in c:\\users\\malah\\anaconda3\\envs\\langgraph\\lib\\site-packages (from groq<1,>=0.4.1->langchain_groq) (4.9.0)\n",
      "Requirement already satisfied: distro<2,>=1.7.0 in c:\\users\\malah\\appdata\\roaming\\python\\python311\\site-packages (from groq<1,>=0.4.1->langchain_groq) (1.9.0)\n",
      "Requirement already satisfied: httpx<1,>=0.23.0 in c:\\users\\malah\\anaconda3\\envs\\langgraph\\lib\\site-packages (from groq<1,>=0.4.1->langchain_groq) (0.28.1)\n",
      "Requirement already satisfied: pydantic<3,>=1.9.0 in c:\\users\\malah\\anaconda3\\envs\\langgraph\\lib\\site-packages (from groq<1,>=0.4.1->langchain_groq) (2.11.4)\n",
      "Requirement already satisfied: sniffio in c:\\users\\malah\\appdata\\roaming\\python\\python311\\site-packages (from groq<1,>=0.4.1->langchain_groq) (1.3.1)\n",
      "Requirement already satisfied: typing-extensions<5,>=4.10 in c:\\users\\malah\\appdata\\roaming\\python\\python311\\site-packages (from groq<1,>=0.4.1->langchain_groq) (4.12.2)\n",
      "Requirement already satisfied: idna>=2.8 in c:\\users\\malah\\appdata\\roaming\\python\\python311\\site-packages (from anyio<5,>=3.5.0->groq<1,>=0.4.1->langchain_groq) (3.10)\n",
      "Requirement already satisfied: certifi in c:\\users\\malah\\appdata\\roaming\\python\\python311\\site-packages (from httpx<1,>=0.23.0->groq<1,>=0.4.1->langchain_groq) (2024.8.30)\n",
      "Requirement already satisfied: httpcore==1.* in c:\\users\\malah\\anaconda3\\envs\\langgraph\\lib\\site-packages (from httpx<1,>=0.23.0->groq<1,>=0.4.1->langchain_groq) (1.0.9)\n",
      "Requirement already satisfied: h11>=0.16 in c:\\users\\malah\\anaconda3\\envs\\langgraph\\lib\\site-packages (from httpcore==1.*->httpx<1,>=0.23.0->groq<1,>=0.4.1->langchain_groq) (0.16.0)\n",
      "Requirement already satisfied: langsmith<0.4,>=0.1.126 in c:\\users\\malah\\anaconda3\\envs\\langgraph\\lib\\site-packages (from langchain-core<1.0.0,>=0.3.49->langchain_groq) (0.3.42)\n",
      "Requirement already satisfied: tenacity!=8.4.0,<10.0.0,>=8.1.0 in c:\\users\\malah\\anaconda3\\envs\\langgraph\\lib\\site-packages (from langchain-core<1.0.0,>=0.3.49->langchain_groq) (9.1.2)\n",
      "Requirement already satisfied: jsonpatch<2.0,>=1.33 in c:\\users\\malah\\appdata\\roaming\\python\\python311\\site-packages (from langchain-core<1.0.0,>=0.3.49->langchain_groq) (1.33)\n",
      "Requirement already satisfied: PyYAML>=5.3 in c:\\users\\malah\\appdata\\roaming\\python\\python311\\site-packages (from langchain-core<1.0.0,>=0.3.49->langchain_groq) (6.0.2)\n",
      "Requirement already satisfied: packaging<25,>=23.2 in c:\\users\\malah\\appdata\\roaming\\python\\python311\\site-packages (from langchain-core<1.0.0,>=0.3.49->langchain_groq) (23.2)\n",
      "Requirement already satisfied: jsonpointer>=1.9 in c:\\users\\malah\\appdata\\roaming\\python\\python311\\site-packages (from jsonpatch<2.0,>=1.33->langchain-core<1.0.0,>=0.3.49->langchain_groq) (3.0.0)\n",
      "Requirement already satisfied: orjson<4.0.0,>=3.9.14 in c:\\users\\malah\\anaconda3\\envs\\langgraph\\lib\\site-packages (from langsmith<0.4,>=0.1.126->langchain-core<1.0.0,>=0.3.49->langchain_groq) (3.10.18)\n",
      "Requirement already satisfied: requests<3,>=2 in c:\\users\\malah\\appdata\\roaming\\python\\python311\\site-packages (from langsmith<0.4,>=0.1.126->langchain-core<1.0.0,>=0.3.49->langchain_groq) (2.32.3)\n",
      "Requirement already satisfied: requests-toolbelt<2.0.0,>=1.0.0 in c:\\users\\malah\\appdata\\roaming\\python\\python311\\site-packages (from langsmith<0.4,>=0.1.126->langchain-core<1.0.0,>=0.3.49->langchain_groq) (1.0.0)\n",
      "Requirement already satisfied: zstandard<0.24.0,>=0.23.0 in c:\\users\\malah\\anaconda3\\envs\\langgraph\\lib\\site-packages (from langsmith<0.4,>=0.1.126->langchain-core<1.0.0,>=0.3.49->langchain_groq) (0.23.0)\n",
      "Requirement already satisfied: annotated-types>=0.6.0 in c:\\users\\malah\\appdata\\roaming\\python\\python311\\site-packages (from pydantic<3,>=1.9.0->groq<1,>=0.4.1->langchain_groq) (0.7.0)\n",
      "Requirement already satisfied: pydantic-core==2.33.2 in c:\\users\\malah\\anaconda3\\envs\\langgraph\\lib\\site-packages (from pydantic<3,>=1.9.0->groq<1,>=0.4.1->langchain_groq) (2.33.2)\n",
      "Requirement already satisfied: typing-inspection>=0.4.0 in c:\\users\\malah\\anaconda3\\envs\\langgraph\\lib\\site-packages (from pydantic<3,>=1.9.0->groq<1,>=0.4.1->langchain_groq) (0.4.0)\n",
      "Requirement already satisfied: charset-normalizer<4,>=2 in c:\\users\\malah\\appdata\\roaming\\python\\python311\\site-packages (from requests<3,>=2->langsmith<0.4,>=0.1.126->langchain-core<1.0.0,>=0.3.49->langchain_groq) (3.3.2)\n",
      "Requirement already satisfied: urllib3<3,>=1.21.1 in c:\\users\\malah\\appdata\\roaming\\python\\python311\\site-packages (from requests<3,>=2->langsmith<0.4,>=0.1.126->langchain-core<1.0.0,>=0.3.49->langchain_groq) (2.2.3)\n",
      "Downloading langchain_groq-0.3.2-py3-none-any.whl (15 kB)\n",
      "Downloading groq-0.25.0-py3-none-any.whl (129 kB)\n",
      "Installing collected packages: groq, langchain_groq\n",
      "\n",
      "   ---------------------------------------- 0/2 [groq]\n",
      "   ---------------------------------------- 0/2 [groq]\n",
      "   ---------------------------------------- 0/2 [groq]\n",
      "   ---------------------------------------- 2/2 [langchain_groq]\n",
      "\n",
      "Successfully installed groq-0.25.0 langchain_groq-0.3.2\n"
     ]
    }
   ],
   "source": [
    "!pip install langchain_groq"
   ]
  },
  {
   "cell_type": "code",
   "execution_count": 18,
   "metadata": {},
   "outputs": [],
   "source": [
    "## Initialize the LLM Model\n",
    "from langchain_groq import ChatGroq\n",
    "\n",
    "llm=ChatGroq(model=\"qwen-qwq-32b\")\n"
   ]
  },
  {
   "cell_type": "code",
   "execution_count": 19,
   "metadata": {},
   "outputs": [
    {
     "data": {
      "text/plain": [
       "AIMessage(content='\\n<think>\\nOkay, the user is asking \"What is AI?\" so I need to explain AI in a clear way. Let me start with a simple definition. AI stands for Artificial Intelligence. I should mention that it\\'s a branch of computer science. Maybe also note that it\\'s about making machines smart.\\n\\nI should break down the key concepts. Like, AI systems can perform tasks that typically require human intelligence. What are those tasks? Examples like problem-solving, learning, reasoning, perception, language understanding. Maybe list some common applications people know, like voice assistants, recommendation systems, image recognition.\\n\\nIt\\'s important to differentiate between narrow AI and general AI. Narrow AI is what we have now, like Siri or Alexa, doing specific tasks. General AI would be human-level intelligence across various tasks, which we don\\'t have yet. Mention that it\\'s still theoretical.\\n\\nAlso, talk about how AI works. Machine learning and neural networks are key components. Machine learning involves training models with data. Neural networks are inspired by the human brain. Maybe explain deep learning briefly as part of that.\\n\\nApplications are important to give real-world context. Healthcare, finance, self-driving cars, customer service. Each of these examples shows different areas where AI is used. Highlight benefits like efficiency, accuracy, and automation. But also touch on challenges like ethical issues, job displacement, bias in algorithms.\\n\\nEthics is a big topic. Data privacy, bias, transparency, accountability. Need to mention that AI systems can inherit biases from their training data, leading to unfair outcomes. Also, the importance of responsible AI development.\\n\\nCurrent trends might include things like natural language processing advancements, AI in robotics, and the use of AI in creative fields like art and music. Maybe mention GPT and other large language models as recent examples.\\n\\nFinally, wrap it up by emphasizing that AI is a rapidly evolving field with both great potential and significant challenges. Make sure the explanation is accessible without too much jargon, but still covers the essentials.\\n</think>\\n\\nArtificial Intelligence (AI) refers to the simulation of human intelligence in machines that are programmed to think and learn like humans. It is a branch of computer science focused on creating systems capable of performing tasks that typically require human intelligence, such as recognizing speech, making decisions, solving problems, and understanding natural language.\\n\\n### Key Concepts:\\n1. **Types of AI**:\\n   - **Narrow/Narrow AI (Weak AI)**: Designed for specific tasks (e.g., voice assistants like Siri, spam filters, recommendation systems on Netflix). These systems operate within a limited context.\\n   - **General AI (Strong AI)**: Hypothetical systems with human-like intelligence, capable of applying knowledge across diverse tasks. This remains theoretical and does not yet exist.\\n\\n2. **How AI Works**:\\n   - **Machine Learning (ML)**: A subset of AI where systems learn patterns from data to make predictions or decisions without explicit programming. For example, spam detection learns from labeled emails.\\n   - **Deep Learning**: A subset of ML that uses **neural networks** (layered algorithms inspired by the human brain) to analyze vast amounts of data. Used in facial recognition or self-driving cars.\\n   - **Natural Language Processing (NLP)**: Enables machines to understand and generate human language (e.g., chatbots, translation tools like Google Translate).\\n\\n3. **Applications**:\\n   - **Healthcare**: Diagnosing diseases, drug discovery, and personalized treatment plans.\\n   - **Finance**: Fraud detection, algorithmic trading, and risk assessment.\\n   - **Automotive**: Autonomous vehicles (e.g., Tesla’s Autopilot).\\n   - **Customer Service**: Chatbots for personalized support.\\n   - **Entertainment**: Content recommendations (Netflix, Spotify) and AI-generated art/music.\\n\\n4. **Benefits**:\\n   - **Efficiency**: Automates repetitive tasks, reducing errors and time.\\n   - **Insights**: Analyzes large datasets to uncover patterns invisible to humans.\\n   - **Accessibility**: Tools like voice recognition aid people with disabilities.\\n\\n5. **Challenges**:\\n   - **Ethical Concerns**: Bias in algorithms (e.g., facial recognition disproportionately affecting minorities), privacy risks, and job displacement.\\n   - **Transparency**: \"Black box\" models (where decisions are hard to interpret) raise trust issues.\\n   - **Safety**: Risks of autonomous systems malfunctioning (e.g., self-driving cars in unpredictable scenarios).\\n\\n6. **Current Trends**:\\n   - **Large Language Models (LLMs)**: AI like GPT-4 or ChatGPT can generate text, code, and even creative content.\\n   - **Edge AI**: Deploying AI on devices (e.g., smartphones) for faster processing without internet.\\n   - **Explainable AI (XAI)**: Focus on creating transparent models to improve accountability.\\n\\n### The Future of AI:\\n- **Human-AI Collaboration**: Tools like AI-driven research assistants or co-pilots in complex tasks.\\n- **Ethical Frameworks**: Developing global guidelines to ensure AI benefits society equitably.\\n- **General AI**: While speculative, advancements in areas like neural networks and cognitive computing continue to push boundaries.\\n\\nIn summary, AI is a transformative technology that enhances capabilities across industries but requires careful development to address ethical, social, and technical challenges. Its evolution will shape everything from daily life to global innovation in the coming decades.', additional_kwargs={}, response_metadata={'token_usage': {'completion_tokens': 1092, 'prompt_tokens': 13, 'total_tokens': 1105, 'completion_time': 2.685948663, 'prompt_time': 0.002929336, 'queue_time': 0.827101901, 'total_time': 2.688877999}, 'model_name': 'qwen-qwq-32b', 'system_fingerprint': 'fp_1e88ca32eb', 'finish_reason': 'stop', 'logprobs': None}, id='run--e7292514-ce81-4277-a25c-92ef6e1d8f02-0', usage_metadata={'input_tokens': 13, 'output_tokens': 1092, 'total_tokens': 1105})"
      ]
     },
     "execution_count": 19,
     "metadata": {},
     "output_type": "execute_result"
    }
   ],
   "source": [
    "llm.invoke(\"What is AI\")"
   ]
  },
  {
   "cell_type": "code",
   "execution_count": 20,
   "metadata": {},
   "outputs": [],
   "source": [
    "llm_with_tools=llm.bind_tools(tools=tools)"
   ]
  },
  {
   "cell_type": "code",
   "execution_count": 21,
   "metadata": {},
   "outputs": [
    {
     "data": {
      "text/plain": [
       "AIMessage(content='', additional_kwargs={'tool_calls': [{'id': 'call_b3ke', 'function': {'arguments': '{\"query\": \"recent advancements and news in artificial intelligence\"}', 'name': 'tavily_search_results_json'}, 'type': 'function'}]}, response_metadata={'token_usage': {'completion_tokens': 197, 'prompt_tokens': 356, 'total_tokens': 553, 'completion_time': 0.489631142, 'prompt_time': 0.032016199, 'queue_time': 0.24325918100000002, 'total_time': 0.521647341}, 'model_name': 'qwen-qwq-32b', 'system_fingerprint': 'fp_512a3da6bb', 'finish_reason': 'tool_calls', 'logprobs': None}, id='run--8ea96284-e109-48bd-9bbf-1d77a1ae8dfd-0', tool_calls=[{'name': 'tavily_search_results_json', 'args': {'query': 'recent advancements and news in artificial intelligence'}, 'id': 'call_b3ke', 'type': 'tool_call'}], usage_metadata={'input_tokens': 356, 'output_tokens': 197, 'total_tokens': 553})"
      ]
     },
     "execution_count": 21,
     "metadata": {},
     "output_type": "execute_result"
    }
   ],
   "source": [
    "## Execute this call\n",
    "llm_with_tools.invoke(\"What is the recent news on AI?\")"
   ]
  },
  {
   "cell_type": "code",
   "execution_count": 22,
   "metadata": {},
   "outputs": [
    {
     "data": {
      "text/plain": [
       "AIMessage(content='', additional_kwargs={'tool_calls': [{'id': 'call_hyqb', 'function': {'arguments': '{\"query\": \"quantum computing\"}', 'name': 'arxiv'}, 'type': 'function'}]}, response_metadata={'token_usage': {'completion_tokens': 250, 'prompt_tokens': 357, 'total_tokens': 607, 'completion_time': 0.578735023, 'prompt_time': 0.043762289, 'queue_time': 0.941199637, 'total_time': 0.622497312}, 'model_name': 'qwen-qwq-32b', 'system_fingerprint': 'fp_28178d7ff6', 'finish_reason': 'tool_calls', 'logprobs': None}, id='run--f51de772-5ba7-4891-afdb-39df67b96f35-0', tool_calls=[{'name': 'arxiv', 'args': {'query': 'quantum computing'}, 'id': 'call_hyqb', 'type': 'tool_call'}], usage_metadata={'input_tokens': 357, 'output_tokens': 250, 'total_tokens': 607})"
      ]
     },
     "execution_count": 22,
     "metadata": {},
     "output_type": "execute_result"
    }
   ],
   "source": [
    "## Execute this call\n",
    "llm_with_tools.invoke(\"What is the latest research on quantum computing?\")\n"
   ]
  },
  {
   "cell_type": "code",
   "execution_count": 23,
   "metadata": {},
   "outputs": [
    {
     "data": {
      "text/plain": [
       "AIMessage(content='', additional_kwargs={'tool_calls': [{'id': 'call_y5cm', 'function': {'arguments': '{\"query\": \"machine learning\"}', 'name': 'wikipedia'}, 'type': 'function'}]}, response_metadata={'token_usage': {'completion_tokens': 158, 'prompt_tokens': 353, 'total_tokens': 511, 'completion_time': 0.391971294, 'prompt_time': 0.023789963, 'queue_time': 0.24684857699999999, 'total_time': 0.415761257}, 'model_name': 'qwen-qwq-32b', 'system_fingerprint': 'fp_512a3da6bb', 'finish_reason': 'tool_calls', 'logprobs': None}, id='run--249fac4b-b3ce-451c-bb77-1306ff0726a3-0', tool_calls=[{'name': 'wikipedia', 'args': {'query': 'machine learning'}, 'id': 'call_y5cm', 'type': 'tool_call'}], usage_metadata={'input_tokens': 353, 'output_tokens': 158, 'total_tokens': 511})"
      ]
     },
     "execution_count": 23,
     "metadata": {},
     "output_type": "execute_result"
    }
   ],
   "source": [
    "## Execute this call\n",
    "llm_with_tools.invoke(\"What is machine learning?\")"
   ]
  },
  {
   "cell_type": "markdown",
   "metadata": {},
   "source": [
    "## Workflow "
   ]
  },
  {
   "cell_type": "code",
   "execution_count": 24,
   "metadata": {},
   "outputs": [],
   "source": [
    "## State Schema\n",
    "from typing_extensions import TypedDict\n",
    "from langchain_core.messages import AnyMessage ## Human message or AI message\n",
    "from typing import Annotated  ## labelling\n",
    "from langgraph.graph.message import add_messages  ## Reducers in Langgraph"
   ]
  },
  {
   "cell_type": "code",
   "execution_count": 25,
   "metadata": {},
   "outputs": [],
   "source": [
    "class State(TypedDict):\n",
    "    messages: Annotated[list[AnyMessage], add_messages]\n",
    "    "
   ]
  },
  {
   "cell_type": "code",
   "execution_count": 26,
   "metadata": {},
   "outputs": [],
   "source": [
    "### Entire Chatbot With LangGraph\n",
    "from IPython.display import Image, display\n",
    "from langgraph.graph import StateGraph, START, END\n",
    "from langgraph.prebuilt import ToolNode\n",
    "from langgraph.prebuilt import tools_condition"
   ]
  },
  {
   "cell_type": "code",
   "execution_count": 27,
   "metadata": {},
   "outputs": [
    {
     "data": {
      "image/png": "[encoded data removed]",
      "text/plain": [
       "<IPython.core.display.Image object>"
      ]
     },
     "metadata": {},
     "output_type": "display_data"
    }
   ],
   "source": [
    "### Node definition\n",
    "def tool_calling_llm(state:State):\n",
    "    return {\"messages\":[llm_with_tools.invoke(state[\"messages\"])]}\n",
    "\n",
    "# Build graph\n",
    "builder = StateGraph(State)\n",
    "builder.add_node(\"tool_calling_llm\", tool_calling_llm)\n",
    "builder.add_node(\"tools\", ToolNode(tools))\n",
    "\n",
    "## Edgess\n",
    "builder.add_edge(START, \"tool_calling_llm\")\n",
    "builder.add_conditional_edges(\n",
    "    \"tool_calling_llm\",\n",
    "    # If the latest message (result) from assistant is a tool call -> tools_condition routes to tools\n",
    "    # If the latest message (result) from assistant is a not a tool call -> tools_condition routes to END\n",
    "    tools_condition,\n",
    ")\n",
    "builder.add_edge(\"tools\", END)\n",
    "\n",
    "graph = builder.compile()\n",
    "\n",
    "# View\n",
    "display(Image(graph.get_graph().draw_mermaid_png()))"
   ]
  },
  {
   "cell_type": "code",
   "execution_count": 28,
   "metadata": {},
   "outputs": [
    {
     "name": "stdout",
     "output_type": "stream",
     "text": [
      "================================\u001b[1m Human Message \u001b[0m=================================\n",
      "\n",
      "1706.03762\n",
      "==================================\u001b[1m Ai Message \u001b[0m==================================\n",
      "Tool Calls:\n",
      "  arxiv (call_pz53)\n",
      " Call ID: call_pz53\n",
      "  Args:\n",
      "    query: 1706.03762\n",
      "=================================\u001b[1m Tool Message \u001b[0m=================================\n",
      "Name: arxiv\n",
      "\n",
      "Published: 2023-08-02\n",
      "Title: Attention Is All You Need\n",
      "Authors: Ashish Vaswani, Noam Shazeer, Niki Parmar, Jakob Uszkoreit, Llion Jones, Aidan N. Gomez, Lukasz Kaiser, Illia Polosukhin\n",
      "Summary: The dominant sequence transduction models are based on complex recurrent or\n",
      "convolutional neural networks in an encoder-decoder configuration. The best\n",
      "performing models also connect the encoder and decoder through an attention\n",
      "mechanism. We propose a new simple network architecture, the Transformer, base\n"
     ]
    }
   ],
   "source": [
    "messages=graph.invoke({\"messages\":\"1706.03762\"})\n",
    "for m in messages['messages']:\n",
    "    m.pretty_print()"
   ]
  },
  {
   "cell_type": "code",
   "execution_count": 29,
   "metadata": {},
   "outputs": [
    {
     "name": "stdout",
     "output_type": "stream",
     "text": [
      "================================\u001b[1m Human Message \u001b[0m=================================\n",
      "\n",
      "Hi My name is Harish\n",
      "==================================\u001b[1m Ai Message \u001b[0m==================================\n",
      "\n",
      "Hello Harish! Nice to meet you. I'm Qwen, a large language model developed by Alibaba Cloud. How can I assist you today? Feel free to ask me any questions or let me know if you need help with anything specific! 😊\n"
     ]
    }
   ],
   "source": [
    "messages=graph.invoke({\"messages\":\"Hi My name is Harish\"})\n",
    "for m in messages['messages']:\n",
    "    m.pretty_print()"
   ]
  },
  {
   "cell_type": "code",
   "execution_count": 30,
   "metadata": {},
   "outputs": [
    {
     "data": {
      "image/png": "[encoded data removed]",
      "text/plain": [
       "<IPython.core.display.Image object>"
      ]
     },
     "metadata": {},
     "output_type": "display_data"
    }
   ],
   "source": [
    "### Node definition\n",
    "def tool_calling_llm(state:State):\n",
    "    return {\"messages\":[llm_with_tools.invoke(state[\"messages\"])]}\n",
    "\n",
    "# Build graph\n",
    "builder = StateGraph(State)\n",
    "builder.add_node(\"tool_calling_llm\", tool_calling_llm)\n",
    "builder.add_node(\"tools\", ToolNode(tools))\n",
    "\n",
    "## Edgess\n",
    "builder.add_edge(START, \"tool_calling_llm\")\n",
    "builder.add_conditional_edges(\n",
    "    \"tool_calling_llm\",\n",
    "    # If the latest message (result) from assistant is a tool call -> tools_condition routes to tools\n",
    "    # If the latest message (result) from assistant is a not a tool call -> tools_condition routes to END\n",
    "    tools_condition,\n",
    ")\n",
    "builder.add_edge(\"tools\", \"tool_calling_llm\")\n",
    "\n",
    "graph = builder.compile()\n",
    "\n",
    "# View\n",
    "display(Image(graph.get_graph().draw_mermaid_png()))"
   ]
  },
  {
   "cell_type": "code",
   "execution_count": 31,
   "metadata": {},
   "outputs": [
    {
     "name": "stdout",
     "output_type": "stream",
     "text": [
      "================================\u001b[1m Human Message \u001b[0m=================================\n",
      "\n",
      "What is the recent AI news and then please tell me the recent research paper on quantum computing?\n",
      "==================================\u001b[1m Ai Message \u001b[0m==================================\n",
      "Tool Calls:\n",
      "  tavily_search_results_json (call_3yb7)\n",
      " Call ID: call_3yb7\n",
      "  Args:\n",
      "    query: latest advances in AI technology 2024\n",
      "  arxiv (call_czr4)\n",
      " Call ID: call_czr4\n",
      "  Args:\n",
      "    query: quantum computing recent research papers 2024\n",
      "=================================\u001b[1m Tool Message \u001b[0m=================================\n",
      "Name: tavily_search_results_json\n",
      "\n",
      "[{\"title\": \"The Top 9 AI Breakthroughs of 2024 (You Won't Believe Are Real)\", \"url\": \"https://www.youtube.com/watch?v=Mv0uFYV9ZCM&pp=0gcJCdgAo7VqN5tD\", \"content\": \"Are you ready to be amazed by the incredible advancements in artificial intelligence? In 2024, AI has reached unprecedented heights, showcasing breakthroughs that are revolutionizing industries and reshaping our everyday lives. This video explores the top 9 AI breakthroughs you won’t believe are real, highlighting innovations that are both astonishing and game-changing. [...] From groundbreaking developments in natural language processing to cutting-edge applications in healthcare, transportation, and creative arts, we cover the most significant strides in AI technology. Discover how these breakthroughs are enhancing efficiency, improving decision-making, and creating new possibilities that were once thought to be science fiction. [...] At AI Uncovered, we're passionate about uncovering the most captivating stories in AI, including the marvels of ChatGPT and advancements by organizations like OpenAI. Our content spans a wide range of topics, from science news and AI innovations to in-depth discussions on the ethical implications of artificial intelligence. Our mission is to enlighten, inspire, and inform our audience about the rapidly evolving technology landscape.\", \"score\": 0.8430832}, {\"title\": \"Generative AI Developments & Trends in 2024: A Timeline\", \"url\": \"https://www.channelinsider.com/managed-services/generative-ai-developments-trends-year-in-review/\", \"content\": \"The first ten months of 2024 have been pivotal for GenAI, with a series of breakthroughs that have redefined its capabilities. As the year progressed, the impact of GenAI became more evident, influencing commercial and government implementations of the technology alike. These innovations reflect a clear shift toward embedding GenAI more deeply to drive efficiency and resilience in critical sectors like healthcare, IT, retail, and defense. [...] Microsoft updated its Copilot and Copilot+ PCs, introducing enhanced security and data protection through its new Recall feature. These updates brought advanced data analysis capabilities powered by Python in Excel, intelligent document comparison in OneDrive, time-based chat summarization in Teams, and broader language support for global users — all aimed at strengthening its ecosystem for a more seamless and secure user experience.\\n\\nClaude AI [...] As we look ahead toward the end of 2024 and beyond, GenAI’s impact is clear. Rapid advancements and widespread adoption are reshaping the IT, healthcare, finance, retail, and government sectors, opening new avenues for innovation.\\n\\nGenAI tools released in 2024\", \"score\": 0.8315952}, {\"title\": \"6 Game-Changing AI Breakthroughs That Defined 2024 - Forbes\", \"url\": \"https://www.forbes.com/sites/bernardmarr/2024/12/16/6-game-changing-ai-breakthroughs-that-defined-2024/\", \"content\": \"As we reflect on 2024's remarkable AI achievements, it's clear that we're witnessing not just technological advancement but a fundamental transformation in how AI integrates into our lives and work. As we look toward 2025, these developments suggest we're entering an era where AI's impact will continue to expand and evolve in ways that promise to reshape every aspect of human endeavor. [...] If there’s one thing that Apple does really well, it’s taking a great idea and launching it into the mainstream. This is why the 2024 arrival of Apple Intelligence could well go down as a watershed moment in consumer adoption of AI. By integrating OpenAI-powered generative language and graphics functionality across its product ecosystem, it created a typically refined, Apple-shaped gateway into the world of day-to-day AI for millions of non-techy people. [...] Demis Hassabis has said that the most important effect of the AI revolution is that it will act as an accelerator in many other fields of science. In 2024, he demonstrated this when he was made joint winner of the Nobel Prize for chemistry, thanks to the AI model AlphaFold 2 being integral to the task of creating new proteins. By predicting the complex amino acid sequences needed, it is thought that this breakthrough will lead to new developments in medicines, vaccines and material sciences.\", \"score\": 0.8170061}, {\"title\": \"The most important AI trends in 2024 - IBM\", \"url\": \"https://www.ibm.com/think/insights/artificial-intelligence-trends\", \"content\": \"That being said, the ambition of state-of-the-art generative AI is growing. The next wave of advancements will focus not only on enhancing performance within a specific domain, but on multimodal models that can take multiple types of data as input. While models that operate across different data modalities are not a strictly new phenomenon—text-to-image models like CLIP and speech-to-text models like Wave2Vec have been around for years now—they’ve typically only operated in one direction, and [...] Alongside parallel advances in open source models in the 3–70 billion parameter space, these evolving techniques could shift the dynamics of the AI landscape by providing smaller players, like startups and amateurs, with sophisticated AI capabilities that were previously out of reach.\\n\\nCustomized local models and data pipelines [...] The incoming generation of interdisciplinary models, comprising proprietary models like OpenAI’s GPT-4V or Google’s Gemini, as well as open source models like LLaVa, Adept or Qwen-VL, can move freely between natural language processing (NLP) and computer vision tasks. New models are also bringing video into the fold: in late January, Google announced Lumiere, a text-to-video diffusion model that can also perform image-to-video tasks or use images for style reference.\", \"score\": 0.81418616}, {\"title\": \"What's next for AI in 2024 - MIT Technology Review\", \"url\": \"https://www.technologyreview.com/2024/01/04/1086046/whats-next-for-ai-in-2024/\", \"content\": \"In 2024, generative AI might actually become useful for the regular, non-tech person, and we are going to see more people tinkering with a million little AI models. State-of-the-art AI models, such as GPT-4 and Gemini, are multimodal, meaning they can process not only text but images and even videos. This new capability could unlock a whole bunch of new apps. For example, a real estate agent can upload text from previous listings, fine-tune a powerful model to generate similar text with just a [...] You get a chatbot! And you get a chatbot! In 2024, tech companies that invested heavily in generative AI will be under pressure to prove that they can make money off their products. To do this, AI giants Google and OpenAI are betting big on going small: both are developing user-friendly platforms that allow people to customize powerful language models and make their own mini chatbots that cater to their specific needs—no coding skills required. Both have launched web-based tools that allow\", \"score\": 0.8080827}]\n",
      "=================================\u001b[1m Tool Message \u001b[0m=================================\n",
      "Name: arxiv\n",
      "\n",
      "Published: 2024-11-22\n",
      "Title: Who is Funding Indian Research? A look at major funding sources acknowledged in Indian research papers\n",
      "Authors: Vivek Kumar Singh, Prashasti Singh, Anurag Kanaujia, Abhirup Nandy\n",
      "Summary: Science and scientific research activities, in addition to the involvement of\n",
      "the researchers, require resources like research infrastructure, materials and\n",
      "reagents, databases and computational tools, journal subscriptions and\n",
      "publication charges etc. In order to meet these require\n",
      "==================================\u001b[1m Ai Message \u001b[0m==================================\n",
      "\n",
      "Here’s the information based on the tools provided:\n",
      "\n",
      "### Recent AI News (2024 Highlights):\n",
      "1. **Apple’s AI Integration**: Apple’s 2024 launch of \"Apple Intelligence\" integrated OpenAI-powered AI across its ecosystem, making advanced AI accessible to mainstream users (Forbes).\n",
      "2. **Multimodal Models**: \n",
      "   - IBM highlights advancements in multimodal AI models (e.g., Google’s Gemini, OpenAI’s GPT-4V) that process text, images, and video, enabling applications like text-to-video generation (IBM Think Insights).\n",
      "   - Tools like Google’s Lumiere allow video creation and style adaptation, while platforms like Microsoft’s Copilot added advanced data analysis in Excel and cross-platform document collaboration.\n",
      "3. **Nobel Prize Impact**: DeepMind’s AlphaFold 2 was pivotal in protein structure prediction, aiding medical breakthroughs like new drug discovery and vaccine development (Forbes).\n",
      "4. **Democratization of AI**: Tools like Google and OpenAI’s platforms now let non-coders create custom chatbots and AI tools, signaling broader adoption (MIT Tech Review).\n",
      "\n",
      "---\n",
      "\n",
      "### Recent Quantum Computing Research Paper:\n",
      "The arXiv query returned a paper titled *\"Who is Funding Indian Research? A look at major funding sources acknowledged in Indian research papers\"* (published 2024-11-22). However, **this paper is unrelated to quantum computing**—it focuses on research funding in India. \n",
      "\n",
      "**Possible Issue**: The search query \"quantum computing recent research papers 2024\" may have been too broad or missed more specific keywords. For better results, try refining the query to include terms like \"quantum error correction 2024\" or \"quantum supremacy experiments 2024\".\n",
      "\n",
      "Let me know if you’d like to adjust the search terms for quantum computing!\n"
     ]
    }
   ],
   "source": [
    "messages=graph.invoke({\"messages\":\"What is the recent AI news and then please tell me the recent research paper on quantum computing?\"})\n",
    "for m in messages['messages']:\n",
    "    m.pretty_print()"
   ]
  },
  {
   "cell_type": "code",
   "execution_count": null,
   "metadata": {},
   "outputs": [],
   "source": []
  }
 ],
 "metadata": {
  "kernelspec": {
   "display_name": "langgraph",
   "language": "python",
   "name": "python3"
  },
  "language_info": {
   "codemirror_mode": {
    "name": "ipython",
    "version": 3
   },
   "file_extension": ".py",
   "mimetype": "text/x-python",
   "name": "python",
   "nbconvert_exporter": "python",
   "pygments_lexer": "ipython3",
   "version": "3.11.0"
  }
 },
 "nbformat": 4,
 "nbformat_minor": 2
}
